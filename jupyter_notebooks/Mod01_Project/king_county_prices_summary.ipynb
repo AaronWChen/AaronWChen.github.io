{
 "cells": [
  {
   "cell_type": "markdown",
   "metadata": {},
   "source": [
    "# Minimizing Error on King County Real Estate Sales Data via Regression Analysis\n",
    "\n",
    "## This project aimed to use linear regression to calculate and minimize the root mean square error (RMSE) on one year of real estate sales data (2014-2015) in King County, Washington"
   ]
  },
  {
   "cell_type": "markdown",
   "metadata": {},
   "source": [
    "## Authors:"
   ]
  },
  {
   "cell_type": "markdown",
   "metadata": {},
   "source": [
    "Aaron Washington Chen\n",
    "\n",
    "Dirk Van Curan"
   ]
  },
  {
   "cell_type": "markdown",
   "metadata": {},
   "source": [
    "## Results:"
   ]
  },
  {
   "cell_type": "markdown",
   "metadata": {},
   "source": [
    "Linear Regression Score: 0.881\n",
    "\n",
    "Linear Regression RMSE in USD: $124,000\n",
    "\n",
    "LassoCV Regression Score: 0.877\n",
    "\n",
    "LassoCV alpha coefficient: 0.000379\n",
    "\n",
    "LassoCV RMSE in USD: $129,000"
   ]
  },
  {
   "cell_type": "markdown",
   "metadata": {},
   "source": [
    "## Analysis:"
   ]
  },
  {
   "cell_type": "markdown",
   "metadata": {},
   "source": [
    "The scores for both Linear Regression and LassoCV are fairly good. Closer to 1.000 would be better, but from a simple analysis, this looks acceptable.\n",
    "\n",
    "The RMSE being on the order of $100,000 looks concerning, and ideally this would be reduced, but real estate in King County spans a range from multimillion dollar properties in Bellevue and Seattle to large ranches on the outskirts of the county with low population density.\n",
    "\n",
    "Specialized models for individual regions would likely improve the RMSE at the risk of overfitting.\n",
    "\n",
    "A few metrics stood out due to their trends or correlations: Square Footage of Living Space, Distance from Bellevue, Distance from Seattle, Waterfront (calculated as the ln[(1+waterfront) * living_square_footage]), View Quality (calculated as the ln[(1+view_rating) * living_square_footage])\n",
    "\n",
    "![Log Price vs Square Footage of Living Space. There is a positive trend.](ln_price_vs_sqft_living.png \"Log Price vs Square Footage of Living Space\")\n",
    "\n",
    "![Log Price vs Distance from Bellevue. There is a negative trend. Bellevue was the most expensive area in the dataset](ln_price_vs_dist_from_bellevue.png \"Log Price vs Distance from Bellevue\")\n",
    "\n",
    "![Log Price vs Distance from Seattle. There is a negative trend. Seattle was the 2nd most expensive area in the dataset](ln_price_vs_dist_from_seattle.png \"Log Price vs Distance from Seattle\")\n",
    "\n",
    "![Log Price vs Waterfront. There are two positive trends; one for each on whether or not the property is on the waterfront. Properties on the water were significantly more expensive.](ln_price_vs_water_weight.png \"Log Price vs Waterfront\")\n",
    "\n",
    "![Log Price vs Waterfront. There are multiple positive trends; one for each view grade.](ln_price_vs_view_weight.png \"Log Price vs View Quality\")\n",
    "\n",
    "![Log Price vs Construction Grade. There are multiple positive trends. These trends dependon the rating of the building construction rating](ln_price_vs_sqft_times_grade.png \"Log Price vs Construction Grade\")"
   ]
  },
  {
   "cell_type": "markdown",
   "metadata": {},
   "source": [
    "## Conclusion and Next Steps:"
   ]
  },
  {
   "cell_type": "markdown",
   "metadata": {},
   "source": [
    "Our model, though not perfect, helps show the various factors that can affect house price in King County. Our root mean square error on that price is just over $130k for both the linear regression and through the lasso function meaning we can expect a variance in price to that amount when predicting a sale price for a home. By using data that takes into account data that spans more years, has more data from the more rural zipcodes for King County, and/or potentially grouping zipcodes into bins to help see the price based on an area versus arbitrary zipcodes may help make the model better. "
   ]
  },
  {
   "cell_type": "markdown",
   "metadata": {},
   "source": [
    "## Key Questions:"
   ]
  },
  {
   "cell_type": "markdown",
   "metadata": {},
   "source": [
    "Can property be purchased within a short commuting distance from Bellevue\n",
    "How can companies based in Bellevue inform employees about possible residences in the area?\n",
    "\n",
    "What effect does being on the waterfront have upon price?"
   ]
  },
  {
   "cell_type": "markdown",
   "metadata": {},
   "source": [
    "## Approach:"
   ]
  },
  {
   "cell_type": "markdown",
   "metadata": {},
   "source": [
    "We work according to Cross-industry standard process for data mining (CRISP-DM) prinicples to make and improve our model.\n",
    "\n",
    "Our approach to this model was to discover key variables that could help accurately determine sale price of a home in King County. Our first task was to see what sorts of questions we could answer to solve business problems with the raw data. Secondly, we cleaned the data, eliminated any features that did not help solve our business propositions and added any that gave better insight into what factors affected price. Once we had our initial model, we tweaked features to fit our model and proposed ways to augment the initial set of raw data. \n",
    "\n",
    "Our end goal was to minimize error, provide insights on what affected price, and develop a strategy around solving the business questions posed."
   ]
  },
  {
   "cell_type": "markdown",
   "metadata": {},
   "source": [
    "## Technical Discussion:"
   ]
  },
  {
   "cell_type": "markdown",
   "metadata": {},
   "source": [
    "Please see the code/repo on [GitHub](https://github.com/AaronWChen/dsc-v2-mod1-final-project-seattle-ds-080519/tree/master/python)"
   ]
  }
 ],
 "metadata": {
  "file_extension": ".py",
  "kernelspec": {
   "display_name": "Python 3",
   "language": "python",
   "name": "python3"
  },
  "language_info": {
   "codemirror_mode": {
    "name": "ipython",
    "version": 3
   },
   "file_extension": ".py",
   "mimetype": "text/x-python",
   "name": "python",
   "nbconvert_exporter": "python",
   "pygments_lexer": "ipython3",
   "version": "3.7.4"
  },
  "mimetype": "text/x-python",
  "name": "python",
  "npconvert_exporter": "python",
  "pygments_lexer": "ipython3",
  "version": 3
 },
 "nbformat": 4,
 "nbformat_minor": 2
}
